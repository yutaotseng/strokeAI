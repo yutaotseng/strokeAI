{
 "cells": [
  {
   "cell_type": "code",
   "execution_count": 1,
   "id": "f6662f6e-1ec0-4240-8d45-7d89ad4612d9",
   "metadata": {},
   "outputs": [
    {
     "data": {
      "text/plain": [
       "'\\nGetECGSeverityInfo_V01\\nVersion Discription: Use the previously organized table to get severity info from svg files\\nLast Update: 20240813\\n'"
      ]
     },
     "execution_count": 1,
     "metadata": {},
     "output_type": "execute_result"
    }
   ],
   "source": [
    "'''\n",
    "GetECGSeverityInfo_V01\n",
    "Version Discription: Use the previously organized table to get severity info from svg files\n",
    "Last Update: 20240813\n",
    "'''"
   ]
  },
  {
   "cell_type": "code",
   "execution_count": 2,
   "id": "63a8c5b2-7391-48ae-be5e-31db3e2e152d",
   "metadata": {},
   "outputs": [
    {
     "name": "stdout",
     "output_type": "stream",
     "text": [
      "Intel MKL WARNING: Support of Intel(R) Streaming SIMD Extensions 4.2 (Intel(R) SSE4.2) enabled only processors has been deprecated. Intel oneAPI Math Kernel Library 2025.0 will require Intel(R) Advanced Vector Extensions (Intel(R) AVX) instructions.\n",
      "Intel MKL WARNING: Support of Intel(R) Streaming SIMD Extensions 4.2 (Intel(R) SSE4.2) enabled only processors has been deprecated. Intel oneAPI Math Kernel Library 2025.0 will require Intel(R) Advanced Vector Extensions (Intel(R) AVX) instructions.\n"
     ]
    }
   ],
   "source": [
    "import pandas as pd\n",
    "import numpy as np\n",
    "import xml.etree.ElementTree as ET\n",
    "import os\n",
    "from tqdm import tqdm"
   ]
  },
  {
   "cell_type": "code",
   "execution_count": 3,
   "id": "7cb87156-0dc3-4293-aa43-29759d355002",
   "metadata": {},
   "outputs": [],
   "source": [
    "def extract_info_from_svg(svg_file_path):\n",
    "    \"\"\"\n",
    "    Extracts patientid and date from a given SVG file.\n",
    "    Includes error handling to ensure the script continues even if parsing fails.\n",
    "\n",
    "    Parameters:\n",
    "    - svg_file_path: Path to the SVG file.\n",
    "\n",
    "    Returns:\n",
    "    A tuple containing (patientid, date), with both values as None if parsing fails.\n",
    "    \"\"\"\n",
    "    try:\n",
    "        # Parse the SVG file\n",
    "        tree = ET.parse(svg_file_path)\n",
    "        root = tree.getroot()\n",
    "\n",
    "        # Define SVG namespace if needed\n",
    "        namespaces = {'svg': 'http://www.w3.org/2000/svg'}\n",
    "\n",
    "        # Function to find text content by element ID\n",
    "        def find_text_by_id(root, element_id):\n",
    "            for element in root.findall(\".//*[@id='\" + element_id + \"']\", namespaces=namespaces):\n",
    "                return element.text\n",
    "            return None\n",
    "\n",
    "        # Extract 'patientid' and 'date'\n",
    "        patientid = find_text_by_id(root, 'patientid')\n",
    "        date = find_text_by_id(root, 'date')\n",
    "        severity = find_text_by_id(root, 'severity')\n",
    "\n",
    "        return patientid, date, severity\n",
    "\n",
    "    except Exception as e:\n",
    "        # If any error occurs during parsing, return None for both patientid and date\n",
    "        print(f\"Error extracting data from {svg_file_path}: {e}\")\n",
    "        return None, None"
   ]
  },
  {
   "cell_type": "code",
   "execution_count": 6,
   "id": "ea89847c-fcda-4c55-a2e6-7ff7f041db26",
   "metadata": {},
   "outputs": [
    {
     "name": "stderr",
     "output_type": "stream",
     "text": [
      "Processing SVG files: 100%|██████████████████| 346/346 [00:01<00:00, 337.52it/s]\n"
     ]
    },
    {
     "data": {
      "text/html": [
       "<div>\n",
       "<style scoped>\n",
       "    .dataframe tbody tr th:only-of-type {\n",
       "        vertical-align: middle;\n",
       "    }\n",
       "\n",
       "    .dataframe tbody tr th {\n",
       "        vertical-align: top;\n",
       "    }\n",
       "\n",
       "    .dataframe thead th {\n",
       "        text-align: right;\n",
       "    }\n",
       "</style>\n",
       "<table border=\"1\" class=\"dataframe\">\n",
       "  <thead>\n",
       "    <tr style=\"text-align: right;\">\n",
       "      <th></th>\n",
       "      <th>filename</th>\n",
       "      <th>patient_id</th>\n",
       "      <th>date</th>\n",
       "      <th>severity</th>\n",
       "    </tr>\n",
       "  </thead>\n",
       "  <tbody>\n",
       "    <tr>\n",
       "      <th>0</th>\n",
       "      <td>PageWriterTouchECG20187227558218.svg</td>\n",
       "      <td>44280720</td>\n",
       "      <td>2018/7/22</td>\n",
       "      <td>- ABNORMAL ECG -</td>\n",
       "    </tr>\n",
       "    <tr>\n",
       "      <th>1</th>\n",
       "      <td>PageWriterTouchECG20181111105338326.svg</td>\n",
       "      <td>20323506</td>\n",
       "      <td>2018/11/11</td>\n",
       "      <td>- ABNORMAL ECG -</td>\n",
       "    </tr>\n",
       "    <tr>\n",
       "      <th>2</th>\n",
       "      <td>PageWriterTouchECG202112822452626.svg</td>\n",
       "      <td>25216653</td>\n",
       "      <td>2021/1/29</td>\n",
       "      <td>- ABNORMAL ECG -</td>\n",
       "    </tr>\n",
       "    <tr>\n",
       "      <th>3</th>\n",
       "      <td>PageWriterTouchECG202121935845960.svg</td>\n",
       "      <td>46732723</td>\n",
       "      <td>2021/2/19</td>\n",
       "      <td>- ABNORMAL ECG -</td>\n",
       "    </tr>\n",
       "    <tr>\n",
       "      <th>4</th>\n",
       "      <td>PageWriterTouchECG2020111952629133.svg</td>\n",
       "      <td>45218799</td>\n",
       "      <td>2020/11/19</td>\n",
       "      <td>- ABNORMAL ECG -</td>\n",
       "    </tr>\n",
       "    <tr>\n",
       "      <th>...</th>\n",
       "      <td>...</td>\n",
       "      <td>...</td>\n",
       "      <td>...</td>\n",
       "      <td>...</td>\n",
       "    </tr>\n",
       "    <tr>\n",
       "      <th>341</th>\n",
       "      <td>PageWriterTouchECG2018122223418234.svg</td>\n",
       "      <td>45153159</td>\n",
       "      <td>2018/12/23</td>\n",
       "      <td>- ABNORMAL ECG -</td>\n",
       "    </tr>\n",
       "    <tr>\n",
       "      <th>342</th>\n",
       "      <td>PageWriterTouchECG202132611837174.svg</td>\n",
       "      <td>28667723</td>\n",
       "      <td>2021/3/26</td>\n",
       "      <td>- ABNORMAL ECG -</td>\n",
       "    </tr>\n",
       "    <tr>\n",
       "      <th>343</th>\n",
       "      <td>PageWriterTouchECG202037161115939.svg</td>\n",
       "      <td>46112305</td>\n",
       "      <td>2020/3/7</td>\n",
       "      <td>- ABNORMAL ECG -</td>\n",
       "    </tr>\n",
       "    <tr>\n",
       "      <th>344</th>\n",
       "      <td>PageWriterTouchECG202092231218465.svg</td>\n",
       "      <td>4150929</td>\n",
       "      <td>2020/9/22</td>\n",
       "      <td>- NORMAL ECG -</td>\n",
       "    </tr>\n",
       "    <tr>\n",
       "      <th>345</th>\n",
       "      <td>PageWriterTouchECG2021527132246587.svg</td>\n",
       "      <td>42114283</td>\n",
       "      <td>2021/5/27</td>\n",
       "      <td>- ABNORMAL ECG -</td>\n",
       "    </tr>\n",
       "  </tbody>\n",
       "</table>\n",
       "<p>346 rows × 4 columns</p>\n",
       "</div>"
      ],
      "text/plain": [
       "                                    filename patient_id        date  \\\n",
       "0       PageWriterTouchECG20187227558218.svg   44280720   2018/7/22   \n",
       "1    PageWriterTouchECG20181111105338326.svg   20323506  2018/11/11   \n",
       "2      PageWriterTouchECG202112822452626.svg   25216653   2021/1/29   \n",
       "3      PageWriterTouchECG202121935845960.svg   46732723   2021/2/19   \n",
       "4     PageWriterTouchECG2020111952629133.svg   45218799  2020/11/19   \n",
       "..                                       ...        ...         ...   \n",
       "341   PageWriterTouchECG2018122223418234.svg   45153159  2018/12/23   \n",
       "342    PageWriterTouchECG202132611837174.svg   28667723   2021/3/26   \n",
       "343    PageWriterTouchECG202037161115939.svg   46112305    2020/3/7   \n",
       "344    PageWriterTouchECG202092231218465.svg    4150929   2020/9/22   \n",
       "345   PageWriterTouchECG2021527132246587.svg   42114283   2021/5/27   \n",
       "\n",
       "             severity  \n",
       "0    - ABNORMAL ECG -  \n",
       "1    - ABNORMAL ECG -  \n",
       "2    - ABNORMAL ECG -  \n",
       "3    - ABNORMAL ECG -  \n",
       "4    - ABNORMAL ECG -  \n",
       "..                ...  \n",
       "341  - ABNORMAL ECG -  \n",
       "342  - ABNORMAL ECG -  \n",
       "343  - ABNORMAL ECG -  \n",
       "344    - NORMAL ECG -  \n",
       "345  - ABNORMAL ECG -  \n",
       "\n",
       "[346 rows x 4 columns]"
      ]
     },
     "execution_count": 6,
     "metadata": {},
     "output_type": "execute_result"
    }
   ],
   "source": [
    "# Set folder path\n",
    "folder_path = \"normal_files_from_Will\"\n",
    "\n",
    "# Initialize an empty DataFrame\n",
    "df = pd.DataFrame(columns=[\"filename\", \"patient_id\", \"date\", \"severity\"])\n",
    "\n",
    "# Get the list of SVG files in the folder\n",
    "svg_files = [f for f in os.listdir(folder_path) if f.endswith(\".svg\")]\n",
    "\n",
    "# Loop through all the SVG files with tqdm progress bar\n",
    "for filename in tqdm(svg_files, desc=\"Processing SVG files\"):\n",
    "    file_path = os.path.join(folder_path, filename)\n",
    "    try:\n",
    "        patientid, date, severity = extract_info_from_svg(file_path)\n",
    "        # Append the data to the DataFrame\n",
    "        df = df.append({\"filename\": filename, \"patient_id\": patientid, \"date\": date, \"severity\": severity}, ignore_index=True)\n",
    "    except Exception as e:\n",
    "        print(f\"Error processing file {filename}: {e}\")\n",
    "        continue\n",
    "\n",
    "# Display the DataFrame\n",
    "df"
   ]
  },
  {
   "cell_type": "code",
   "execution_count": 8,
   "id": "00b8e27d-4ff3-4b49-83ff-ca0a7a60e2d1",
   "metadata": {},
   "outputs": [],
   "source": [
    "# df.to_csv(\"file_severity_info.csv\", index=False)  # Uncomment this line if you want to save the DataFrame as a CSV file"
   ]
  },
  {
   "cell_type": "code",
   "execution_count": 7,
   "id": "38bae1b9-d760-43c3-8f71-2c600e5449e4",
   "metadata": {},
   "outputs": [
    {
     "data": {
      "text/plain": [
       "- ABNORMAL ECG -            203\n",
       "- NORMAL ECG -               52\n",
       "- BORDERLINE ECG -           50\n",
       "- OTHERWISE NORMAL ECG -     41\n",
       "Name: severity, dtype: int64"
      ]
     },
     "execution_count": 7,
     "metadata": {},
     "output_type": "execute_result"
    }
   ],
   "source": [
    "severity_counts = df['severity'].value_counts()\n",
    "severity_counts"
   ]
  },
  {
   "cell_type": "code",
   "execution_count": null,
   "id": "6bb35159-8937-4c71-ae34-72819bf5ed17",
   "metadata": {},
   "outputs": [],
   "source": []
  }
 ],
 "metadata": {
  "kernelspec": {
   "display_name": "Python 3 (ipykernel)",
   "language": "python",
   "name": "python3"
  },
  "language_info": {
   "codemirror_mode": {
    "name": "ipython",
    "version": 3
   },
   "file_extension": ".py",
   "mimetype": "text/x-python",
   "name": "python",
   "nbconvert_exporter": "python",
   "pygments_lexer": "ipython3",
   "version": "3.9.18"
  }
 },
 "nbformat": 4,
 "nbformat_minor": 5
}
