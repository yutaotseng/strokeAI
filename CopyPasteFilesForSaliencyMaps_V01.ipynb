{
 "cells": [
  {
   "cell_type": "code",
   "execution_count": null,
   "id": "42200d3a-8115-4b59-ba5c-ec4966fb4026",
   "metadata": {},
   "outputs": [],
   "source": [
    "'''\n",
    "CopyPasteFilesForSaliencyMaps_V01\n",
    "Version Discription: copy paste ECG files for Saliency Map Analysis\n",
    "Last Update: 20241109\n",
    "'''"
   ]
  },
  {
   "cell_type": "code",
   "execution_count": 1,
   "id": "2d51ead6-595c-4f8b-976e-aee7f8a64d7b",
   "metadata": {},
   "outputs": [],
   "source": [
    "import os\n",
    "import shutil\n",
    "import pickle\n",
    "from tqdm import tqdm"
   ]
  },
  {
   "cell_type": "code",
   "execution_count": 2,
   "id": "09bcdcf2-b914-4774-90ce-37f94a51e180",
   "metadata": {},
   "outputs": [
    {
     "name": "stdout",
     "output_type": "stream",
     "text": [
      "Intel MKL WARNING: Support of Intel(R) Streaming SIMD Extensions 4.2 (Intel(R) SSE4.2) enabled only processors has been deprecated. Intel oneAPI Math Kernel Library 2025.0 will require Intel(R) Advanced Vector Extensions (Intel(R) AVX) instructions.\n",
      "Intel MKL WARNING: Support of Intel(R) Streaming SIMD Extensions 4.2 (Intel(R) SSE4.2) enabled only processors has been deprecated. Intel oneAPI Math Kernel Library 2025.0 will require Intel(R) Advanced Vector Extensions (Intel(R) AVX) instructions.\n"
     ]
    }
   ],
   "source": [
    "# Load the dataset containing tuples\n",
    "with open(\"20241015_2301_test_dataset.pkl\", \"rb\") as f:\n",
    "    dataset = pickle.load(f)"
   ]
  },
  {
   "cell_type": "code",
   "execution_count": 3,
   "id": "e577c4b1-437b-4f0b-909e-a96a8964ecae",
   "metadata": {},
   "outputs": [
    {
     "name": "stdout",
     "output_type": "stream",
     "text": [
      "Destination folder created: FilesForSaliencyMaps/20241015_2301_test_dataset\n"
     ]
    }
   ],
   "source": [
    "# Define the source folder and destination folder paths\n",
    "source_folder = \"data/waveform_like_data_without_outliers\"\n",
    "destination_folder = \"FilesForSaliencyMaps/20241015_2301_test_dataset\"\n",
    "\n",
    "# Create the destination folder if it does not exist\n",
    "if not os.path.exists(destination_folder):\n",
    "    os.makedirs(destination_folder)\n",
    "    print(f\"Destination folder created: {destination_folder}\")"
   ]
  },
  {
   "cell_type": "code",
   "execution_count": 4,
   "id": "2756b634-0b56-4db1-90ab-fe071c979282",
   "metadata": {},
   "outputs": [],
   "source": [
    "# Create a dictionary to store all files with their full paths from source_folder\n",
    "all_files = {}\n",
    "\n",
    "# Walk through all subdirectories and files in the source folder\n",
    "for root, dirs, files in os.walk(source_folder):\n",
    "    for file in files:\n",
    "        full_path = os.path.join(root, file)\n",
    "        all_files[file] = full_path  # Store the filename and its full path"
   ]
  },
  {
   "cell_type": "code",
   "execution_count": 5,
   "id": "041ca807-693c-4353-adc3-f4d53d1864d5",
   "metadata": {},
   "outputs": [],
   "source": [
    "# Lists to keep track of successfully copied files and failed files\n",
    "success_files = []\n",
    "failed_files = []"
   ]
  },
  {
   "cell_type": "code",
   "execution_count": 6,
   "id": "dde16fea-94ee-4dc5-9253-649cf951d8a1",
   "metadata": {},
   "outputs": [
    {
     "name": "stderr",
     "output_type": "stream",
     "text": [
      "  0%|                                                   | 0/116 [00:00<?, ?it/s]Fatal Python error: config_get_locale_encoding: failed to get the locale encoding: nl_langinfo(CODESET) failed\n",
      "Python runtime state: preinitialized\n",
      "\n",
      "100%|███████████████████████████████████████| 116/116 [00:00<00:00, 1606.85it/s]"
     ]
    },
    {
     "name": "stdout",
     "output_type": "stream",
     "text": [
      "\n",
      "Copy completed.\n",
      "Total files successfully copied: 116\n",
      "Total files failed to copy: 0\n"
     ]
    },
    {
     "name": "stderr",
     "output_type": "stream",
     "text": [
      "\n"
     ]
    }
   ],
   "source": [
    "# Loop over each tuple in the dataset\n",
    "for item in tqdm(dataset):\n",
    "    try:\n",
    "        # Extract the filename from the first element of the tuple\n",
    "        filename = item[0]\n",
    "\n",
    "        # Check if the file exists in the all_files dictionary\n",
    "        if filename in all_files:\n",
    "            source_path = all_files[filename]\n",
    "            destination_path = os.path.join(destination_folder, filename)\n",
    "\n",
    "            # Copy the file to the destination folder\n",
    "            shutil.copy2(source_path, destination_path)\n",
    "            success_files.append(filename)  # Record successful copy\n",
    "        else:\n",
    "            # If the file does not exist, add it to the failed list\n",
    "            failed_files.append(filename)\n",
    "\n",
    "    except Exception as e:\n",
    "        # Catch any error during processing and log the failed file\n",
    "        failed_files.append(filename)\n",
    "        print(f\"Error processing {filename}: {e}\")\n",
    "\n",
    "# Display the summary of the copying process\n",
    "print(\"\\nCopy completed.\")\n",
    "print(f\"Total files successfully copied: {len(success_files)}\")\n",
    "print(f\"Total files failed to copy: {len(failed_files)}\")\n",
    "\n",
    "# If there are failed files, print them\n",
    "if failed_files:\n",
    "    print(\"\\nFailed files:\")\n",
    "    for file in failed_files:\n",
    "        print(f\" - {file}\")"
   ]
  },
  {
   "cell_type": "code",
   "execution_count": null,
   "id": "8fb70d41-cdd3-4f07-8a1a-05e3ae45f353",
   "metadata": {},
   "outputs": [],
   "source": []
  }
 ],
 "metadata": {
  "kernelspec": {
   "display_name": "Python 3 (ipykernel)",
   "language": "python",
   "name": "python3"
  },
  "language_info": {
   "codemirror_mode": {
    "name": "ipython",
    "version": 3
   },
   "file_extension": ".py",
   "mimetype": "text/x-python",
   "name": "python",
   "nbconvert_exporter": "python",
   "pygments_lexer": "ipython3",
   "version": "3.9.18"
  }
 },
 "nbformat": 4,
 "nbformat_minor": 5
}
